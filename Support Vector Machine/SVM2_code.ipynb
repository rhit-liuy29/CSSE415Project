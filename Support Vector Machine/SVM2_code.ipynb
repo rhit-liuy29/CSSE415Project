{
 "cells": [
  {
   "cell_type": "markdown",
   "id": "56f23655-8e86-4508-9bb1-5cc4b24c091a",
   "metadata": {},
   "source": [
    "# Initial SVC Model"
   ]
  },
  {
   "cell_type": "code",
   "execution_count": 1,
   "id": "2b29bb39",
   "metadata": {},
   "outputs": [],
   "source": [
    "import pandas as pd\n",
    "import numpy as np\n",
    "from sklearn.neighbors import KNeighborsClassifier\n",
    "from sklearn.preprocessing import scale\n",
    "from sklearn.model_selection import GridSearchCV\n",
    "from sklearn.model_selection import train_test_split\n",
    "from sklearn.preprocessing import StandardScaler\n",
    "from sklearn.svm import SVC\n",
    "from sklearn.metrics import confusion_matrix, classification_report, roc_auc_score"
   ]
  },
  {
   "cell_type": "code",
   "execution_count": 44,
   "id": "e3ded0b7",
   "metadata": {},
   "outputs": [
    {
     "data": {
      "text/plain": [
       "(284807, 31)"
      ]
     },
     "execution_count": 2,
     "metadata": {},
     "output_type": "execute_result"
    }
   ],
   "source": [
    "df = pd.read_csv(\"./creditcard.csv\")\n",
    "df.shape"
   ]
  },
  {
   "cell_type": "code",
   "execution_count": 45,
   "id": "6630dd2f",
   "metadata": {},
   "outputs": [
    {
     "data": {
      "text/plain": [
       "0.9982725143693799"
      ]
     },
     "execution_count": 45,
     "metadata": {},
     "output_type": "execute_result"
    }
   ],
   "source": [
    "df.Class.value_counts().max() / df.Class.value_counts().sum()"
   ]
  },
  {
   "cell_type": "code",
   "execution_count": 46,
   "id": "abce46f8",
   "metadata": {},
   "outputs": [],
   "source": [
    "df = df.dropna()"
   ]
  },
  {
   "cell_type": "code",
   "execution_count": 47,
   "id": "0ba6cbb8-28a2-40e9-b8ba-3b70b80e2cfa",
   "metadata": {},
   "outputs": [],
   "source": [
    "X = df.drop('Class', axis=1)\n",
    "y = df['Class']\n",
    "\n",
    "X_train, X_test, y_train, y_test = train_test_split(X, y, test_size=0.2, random_state=0)"
   ]
  },
  {
   "cell_type": "code",
   "execution_count": 48,
   "id": "a528807e-3beb-4bcc-b1e7-963584927b56",
   "metadata": {},
   "outputs": [],
   "source": [
    "scaler = StandardScaler()\n",
    "X_train = scaler.fit_transform(X_train)\n",
    "X_test = scaler.transform(X_test)"
   ]
  },
  {
   "cell_type": "code",
   "execution_count": null,
   "id": "11072b7f",
   "metadata": {},
   "outputs": [],
   "source": [
    "svm = SVC(kernel='linear', random_state=0)\n",
    "svm.fit(X_train, y_train)"
   ]
  },
  {
   "cell_type": "code",
   "execution_count": 14,
   "id": "c7f68b3d",
   "metadata": {},
   "outputs": [],
   "source": [
    "y_pred = svm.predict(X_test)"
   ]
  },
  {
   "cell_type": "code",
   "execution_count": 19,
   "id": "7ed8058e",
   "metadata": {},
   "outputs": [
    {
     "name": "stdout",
     "output_type": "stream",
     "text": [
      "Accuracy: 0.8927076633973792\n",
      "\n",
      "Confusion Matrix:\n",
      " [[56847    17]\n",
      " [   21    77]]\n",
      "\n",
      "Classification Report:\n",
      "               precision    recall  f1-score   support\n",
      "\n",
      "           0       1.00      1.00      1.00     56864\n",
      "           1       0.82      0.79      0.80        98\n",
      "\n",
      "    accuracy                           1.00     56962\n",
      "   macro avg       0.91      0.89      0.90     56962\n",
      "weighted avg       1.00      1.00      1.00     56962\n",
      "\n"
     ]
    }
   ],
   "source": [
    "print(\"Accuracy (roc_auc_score):\", roc_auc_score(y_test, y_pred))\n",
    "print(\"\\nConfusion Matrix:\\n\", confusion_matrix(y_test, y_pred))\n",
    "print(\"\\nClassification Report:\\n\", classification_report(y_test, y_pred))\n"
   ]
  },
  {
   "cell_type": "markdown",
   "id": "2f3f8192-a84a-405b-a619-f03eaf29aa57",
   "metadata": {},
   "source": [
    "# Random Undersampling + Anomaly Detection"
   ]
  },
  {
   "cell_type": "code",
   "execution_count": 6,
   "id": "7784da0f-d097-4f4e-8287-a14d372d1001",
   "metadata": {},
   "outputs": [],
   "source": [
    "import pandas as pd\n",
    "import numpy as np\n",
    "from sklearn.model_selection import train_test_split\n",
    "from sklearn.preprocessing import StandardScaler\n",
    "from sklearn.svm import OneClassSVM\n",
    "from sklearn.metrics import confusion_matrix, classification_report, accuracy_score\n",
    "from imblearn.under_sampling import RandomUnderSampler\n",
    "from sklearn.metrics import confusion_matrix, classification_report, roc_auc_score\n",
    "\n",
    "df = pd.read_csv(\"./creditcard.csv\")\n",
    "\n",
    "X = df.drop('Class', axis=1)\n",
    "y = df['Class']\n",
    "X_train, X_test, y_train, y_test = train_test_split(X, y, test_size=0.2, random_state=0)"
   ]
  },
  {
   "cell_type": "code",
   "execution_count": 24,
   "id": "5c3ddd43-c3ab-4379-8085-66d554ddd2ba",
   "metadata": {},
   "outputs": [],
   "source": [
    "scaler = StandardScaler()\n",
    "X_train = scaler.fit_transform(X_train)\n",
    "X_test = scaler.transform(X_test)"
   ]
  },
  {
   "cell_type": "code",
   "execution_count": 25,
   "id": "6edbeef4-0b2b-497d-9790-3b470022ad9a",
   "metadata": {},
   "outputs": [],
   "source": [
    "def train_evaluate(undersampling_ratio, X_train, y_train, X_test, y_test):\n",
    "    # random undersampling\n",
    "    rus = RandomUnderSampler(sampling_strategy=undersampling_ratio, random_state=0)\n",
    "    X_train_resampled, y_train_resampled = rus.fit_resample(X_train, y_train)\n",
    "    \n",
    "    # Filter out non-fradulent data from the resampled training set\n",
    "    X_train_normal = X_train_resampled[y_train_resampled == 0]\n",
    "\n",
    "    # Train a One-Class SVM model on the non-fradulent data\n",
    "    one_class_svm = OneClassSVM(kernel='rbf', nu=0.01, gamma='scale')\n",
    "    one_class_svm.fit(X_train_normal)\n",
    "    y_pred = one_class_svm.predict(X_test)\n",
    "\n",
    "    # # Convert the predicted labels to match the original labels (0 for normal, 1 for anomaly/fraud)\n",
    "    y_pred = np.where(y_pred == 1, 0, 1)\n",
    "\n",
    "    print(f\"Undersampling Ratio: {undersampling_ratio * 100}%\")\n",
    "    print(\"Accuracy (roc_auc_score):\", roc_auc_score(y_test, y_pred))\n",
    "    print(\"\\nConfusion Matrix:\\n\", confusion_matrix(y_test, y_pred))\n",
    "    print(\"\\nClassification Report:\\n\", classification_report(y_test, y_pred))\n",
    "    print(\"\\n\")"
   ]
  },
  {
   "cell_type": "code",
   "execution_count": 8,
   "id": "8ff66c53-ce3d-4f4c-804a-29a996d2610e",
   "metadata": {},
   "outputs": [
    {
     "name": "stdout",
     "output_type": "stream",
     "text": [
      "Percentage of non-fradulent records: majority class:0.998\n",
      "Percentage of fraud records (minority class):0.002\n"
     ]
    }
   ],
   "source": [
    "# Ratio Selection\n",
    "print(f\"Percentage of non-fradulent records: majority class:{(df.Class.value_counts().max() / df.Class.value_counts().sum()).round(3)}\")\n",
    "print(f\"Percentage of fraud records (minority class):{(df.Class.value_counts().min() / df.Class.value_counts().sum()).round(3)}\")"
   ]
  },
  {
   "cell_type": "code",
   "execution_count": 22,
   "id": "f22270be-c32e-4076-8828-403b77729306",
   "metadata": {},
   "outputs": [
    {
     "name": "stdout",
     "output_type": "stream",
     "text": [
      "Undersampling Ratio: 10.0%\n",
      "Accuracy (roc_auc_score): 0.9240978116063533\n",
      "\n",
      "Confusion Matrix:\n",
      " [[53454  3410]\n",
      " [    9    89]]\n",
      "\n",
      "Classification Report:\n",
      "               precision    recall  f1-score   support\n",
      "\n",
      "           0       1.00      0.94      0.97     56864\n",
      "           1       0.03      0.91      0.05        98\n",
      "\n",
      "    accuracy                           0.94     56962\n",
      "   macro avg       0.51      0.92      0.51     56962\n",
      "weighted avg       1.00      0.94      0.97     56962\n",
      "\n",
      "\n",
      "\n"
     ]
    }
   ],
   "source": [
    "undersampling_ratios = [0.1]\n",
    "\n",
    "for ratio in undersampling_ratios:\n",
    "    train_evaluate(ratio, X_train, y_train, X_test, y_test)"
   ]
  },
  {
   "cell_type": "markdown",
   "id": "c08a293e-dae4-4da0-a682-65c267170633",
   "metadata": {},
   "source": [
    "# Week 2 Improvements"
   ]
  },
  {
   "cell_type": "markdown",
   "id": "f05882f7-376f-4251-a1df-49a6e2f281a2",
   "metadata": {},
   "source": [
    "# Undersampling Improvements"
   ]
  },
  {
   "cell_type": "code",
   "execution_count": 2,
   "id": "2b945225-92f9-4632-9c5f-01d6cbdb5f6c",
   "metadata": {},
   "outputs": [],
   "source": [
    "from imblearn.under_sampling import RandomUnderSampler, NearMiss,TomekLinks, EditedNearestNeighbours, CondensedNearestNeighbour, OneSidedSelection\n",
    "from collections import Counter"
   ]
  },
  {
   "cell_type": "code",
   "execution_count": 35,
   "id": "94bd2ed8-f391-4e18-a9f3-5cc83f5e6768",
   "metadata": {},
   "outputs": [],
   "source": [
    "import pandas as pd\n",
    "import numpy as np\n",
    "from sklearn.model_selection import train_test_split, GridSearchCV\n",
    "\n",
    "from sklearn.preprocessing import StandardScaler\n",
    "from sklearn.svm import OneClassSVM\n",
    "from sklearn.metrics import confusion_matrix, classification_report, accuracy_score\n",
    "from imblearn.under_sampling import RandomUnderSampler\n",
    "\n",
    "df = pd.read_csv(\"./creditcard.csv\")\n",
    "\n",
    "X = df.drop('Class', axis=1)\n",
    "y = df['Class']\n",
    "X_train, X_test, y_train, y_test = train_test_split(X, y, test_size=0.2, random_state=0)"
   ]
  },
  {
   "cell_type": "code",
   "execution_count": 41,
   "id": "52a36cb5-9ac7-4954-a90e-d5d5dd7d252a",
   "metadata": {},
   "outputs": [],
   "source": [
    "def undersampling_distribution(name, X_train, y_train):\n",
    "    undersampling_methods = {\n",
    "        \"RandomUnderSampler\": RandomUnderSampler(sampling_strategy=0.1, random_state=0),\n",
    "        \"NearMiss\": NearMiss(version=1),\n",
    "        \"TomekLinks\": TomekLinks(sampling_strategy='majority'),\n",
    "        \"EditedNearestNeighbours\": EditedNearestNeighbours(sampling_strategy='majority'),\n",
    "        \"CondensedNearestNeighbour\": CondensedNearestNeighbour(random_state=0),\n",
    "        \"OneSidedSelection\": OneSidedSelection(random_state=0)\n",
    "    }\n",
    "    method = undersampling_methods[name]\n",
    "    X_resampled, y_resampled = method.fit_resample(X_train, y_train)\n",
    "    \n",
    "    # Print the number of instances in each class for the resampled data\n",
    "    print(f\"Method: {name}\")\n",
    "    print(\"Class distribution:\", Counter(y_resampled))\n",
    "    print(\"\\n\")\n",
    "    return X_resampled, y_resampled"
   ]
  },
  {
   "cell_type": "code",
   "execution_count": 39,
   "id": "3703c422-e453-481d-8df2-91f4d2a9e561",
   "metadata": {},
   "outputs": [
    {
     "name": "stdout",
     "output_type": "stream",
     "text": [
      "Original class distribution: Counter({0: 227454, 1: 391})\n"
     ]
    }
   ],
   "source": [
    "print(\"Original class distribution:\", Counter(y_train))"
   ]
  },
  {
   "cell_type": "code",
   "execution_count": 42,
   "id": "036c403e-d9c6-489b-a9de-a77e7de6ff38",
   "metadata": {},
   "outputs": [
    {
     "name": "stdout",
     "output_type": "stream",
     "text": [
      "Method: RandomUnderSampler\n",
      "Class distribution: Counter({0: 3910, 1: 391})\n",
      "\n",
      "\n"
     ]
    }
   ],
   "source": [
    "randomX,randomY = undersampling_distribution(\"RandomUnderSampler\",X_train, y_train)"
   ]
  },
  {
   "cell_type": "code",
   "execution_count": null,
   "id": "66007c13-e669-4807-bcc2-6a03bc770607",
   "metadata": {},
   "outputs": [],
   "source": [
    "nearmissX, nearmissY = undersampling_distribution(\"NearMiss\",X_train, y_train)"
   ]
  },
  {
   "cell_type": "code",
   "execution_count": null,
   "id": "3ce4cb64-99be-4eaa-9a72-c801ddc0a587",
   "metadata": {},
   "outputs": [],
   "source": [
    "tomekX, tomekY = undersampling_distribution(\"TomekLinks\",X_train, y_train)"
   ]
  },
  {
   "cell_type": "code",
   "execution_count": null,
   "id": "47267038-db99-4b9b-820d-3bca3784faad",
   "metadata": {},
   "outputs": [
    {
     "name": "stderr",
     "output_type": "stream",
     "text": [
      "OpenBLAS warning: precompiled NUM_THREADS exceeded, adding auxiliary array for thread metadata.\n"
     ]
    }
   ],
   "source": [
    "ennX, ennY = undersampling_distribution(\"EditedNearestNeighbours\",X_train, y_train)"
   ]
  },
  {
   "cell_type": "code",
   "execution_count": null,
   "id": "1b83730e-fecd-4613-b839-a71b6f6adce4",
   "metadata": {},
   "outputs": [],
   "source": [
    "cnnX, cnnY = undersampling_distribution(\"CondensedNearestNeighbour\",X_train, y_train)"
   ]
  },
  {
   "cell_type": "code",
   "execution_count": null,
   "id": "0e706efb-fa1d-4122-8a33-b92fbfe8a3ef",
   "metadata": {},
   "outputs": [
    {
     "name": "stderr",
     "output_type": "stream",
     "text": [
      "OpenBLAS warning: precompiled NUM_THREADS exceeded, adding auxiliary array for thread metadata.\n"
     ]
    }
   ],
   "source": [
    "ossX, ossY = undersampling_distribution(\"OneSidedSelection\",X_train, y_train)"
   ]
  },
  {
   "cell_type": "code",
   "execution_count": 19,
   "id": "35f55c48-aa99-47f8-99a9-391f0fe13d7b",
   "metadata": {},
   "outputs": [],
   "source": [
    "scaler = StandardScaler()\n",
    "X_train = scaler.fit_transform(X_train)\n",
    "X_test = scaler.transform(X_test)"
   ]
  },
  {
   "cell_type": "code",
   "execution_count": 29,
   "id": "7b502191-5f4e-4a50-9a32-570f06e58b42",
   "metadata": {},
   "outputs": [
    {
     "name": "stdout",
     "output_type": "stream",
     "text": [
      "Method: RandomUnderSampler\n",
      "Class distribution: Counter({0: 3910, 1: 391})\n",
      "\n",
      "\n",
      "Best Parameters: {'gamma': 'scale', 'nu': 0.015}\n",
      "Accuracy (roc_auc_score): 0.9198325567594834\n",
      "\n",
      "Confusion Matrix:\n",
      " [[53374  3487]\n",
      " [   10    91]]\n",
      "\n",
      "Classification Report:\n",
      "               precision    recall  f1-score   support\n",
      "\n",
      "           0       1.00      0.94      0.97     56861\n",
      "           1       0.03      0.90      0.05       101\n",
      "\n",
      "    accuracy                           0.94     56962\n",
      "   macro avg       0.51      0.92      0.51     56962\n",
      "weighted avg       1.00      0.94      0.97     56962\n",
      "\n",
      "\n",
      "\n"
     ]
    }
   ],
   "source": [
    "from sklearn.metrics import make_scorer\n",
    "from sklearn.model_selection import ParameterGrid\n",
    "\n",
    "def custom_scorer(y, y_pred):\n",
    "    # Convert the predicted labels to match the original labels (0 for normal, 1 for anomaly/fraud)\n",
    "    y_pred = np.where(y_pred == 1, 0, 1)\n",
    "    return roc_auc_score(y, y_pred)\n",
    "\n",
    "best_score = 0\n",
    "best_params = None\n",
    "\n",
    "X_train_resampled, y_train_resampled = undersampling_distribution(\"RandomUnderSampler\",X_train, y_train)\n",
    "\n",
    "# Filter out non-fraudulent data from the resampled training set\n",
    "X_train_normal = X_train_resampled[y_train_resampled == 0]\n",
    "\n",
    "# Define the hyperparameter grid\n",
    "param_grid = {\n",
    "    'nu': [.015,.014,.013,.012,.011,.010,.09,.08,.07,.05,.009],\n",
    "    'gamma': ['scale', 'auto'],\n",
    "}\n",
    "\n",
    "# Iterate over all combinations of hyperparameters\n",
    "for params in ParameterGrid(param_grid):\n",
    "    one_class_svm = OneClassSVM(**params)\n",
    "    one_class_svm.fit(X_train_normal)\n",
    "    \n",
    "    y_test_pred = one_class_svm.predict(X_test)\n",
    "    \n",
    "    score = custom_scorer(y_test, y_test_pred)\n",
    "    \n",
    "    if score > best_score:\n",
    "        best_score = score\n",
    "        best_params = params\n",
    "\n",
    "# Finally, train a model with the best parameters on the full training set and evaluate it on the test set\n",
    "one_class_svm_best = OneClassSVM(kernel='rbf', **best_params)\n",
    "one_class_svm_best.fit(X_train_normal)\n",
    "y_pred = one_class_svm_best.predict(X_test)\n",
    "\n",
    "# Convert the predicted labels to match the original labels (0 for normal, 1 for anomaly/fraud)\n",
    "y_pred = np.where(y_pred == 1, 0, 1)\n",
    "\n",
    "print(f\"Best Parameters:\", best_params)\n",
    "print(\"Accuracy (roc_auc_score):\", roc_auc_score(y_test, y_pred))\n",
    "print(\"\\nConfusion Matrix:\\n\", confusion_matrix(y_test, y_pred))\n",
    "print(\"\\nClassification Report:\\n\", classification_report(y_test, y_pred))\n",
    "print(\"\\n\")"
   ]
  },
  {
   "cell_type": "code",
   "execution_count": 31,
   "id": "db409aa0-baa3-41ac-97f4-03a353b71b21",
   "metadata": {},
   "outputs": [
    {
     "name": "stdout",
     "output_type": "stream",
     "text": [
      "Best Parameters: {'gamma': 'scale', 'nu': 0.1}\n",
      "Accuracy (roc_auc_score): 0.9058458850619594\n",
      "\n",
      "Confusion Matrix:\n",
      " [[50798  6066]\n",
      " [    8    90]]\n",
      "\n",
      "Classification Report:\n",
      "               precision    recall  f1-score   support\n",
      "\n",
      "           0       1.00      0.89      0.94     56864\n",
      "           1       0.01      0.92      0.03        98\n",
      "\n",
      "    accuracy                           0.89     56962\n",
      "   macro avg       0.51      0.91      0.49     56962\n",
      "weighted avg       1.00      0.89      0.94     56962\n",
      "\n",
      "\n",
      "\n"
     ]
    }
   ],
   "source": [
    "from sklearn.metrics import make_scorer\n",
    "from sklearn.model_selection import ParameterGrid\n",
    "\n",
    "def custom_scorer(y, y_pred):\n",
    "    # Convert the predicted labels to match the original labels (0 for normal, 1 for anomaly/fraud)\n",
    "    y_pred = np.where(y_pred == 1, 0, 1)\n",
    "    return roc_auc_score(y, y_pred)\n",
    "\n",
    "best_score = 0\n",
    "best_params = None\n",
    "\n",
    "# random undersampling\n",
    "rus = RandomUnderSampler(sampling_strategy=.1, random_state=0)\n",
    "X_train_resampled, y_train_resampled = rus.fit_resample(X_train, y_train)\n",
    "\n",
    "# Filter out non-fraudulent data from the resampled training set\n",
    "X_train_normal = X_train_resampled[y_train_resampled == 0]\n",
    "\n",
    "# Define the hyperparameter grid\n",
    "param_grid = {\n",
    "    'nu': [0.1],\n",
    "    'gamma': ['scale']\n",
    "}\n",
    "\n",
    "# Iterate over all combinations of hyperparameters\n",
    "for params in ParameterGrid(param_grid):\n",
    "    # Train a One-Class SVM model on the non-fraudulent data\n",
    "    one_class_svm = OneClassSVM(kernel='rbf', **params)\n",
    "    one_class_svm.fit(X_train_normal)\n",
    "    \n",
    "    # Get predictions on the validation set\n",
    "    y_test_pred = one_class_svm.predict(X_test)\n",
    "    \n",
    "    # Compute the custom score\n",
    "    score = custom_scorer(y_test, y_test_pred)\n",
    "    \n",
    "    # If the score is better than the current best, update the best score and best parameters\n",
    "    if score > best_score:\n",
    "        best_score = score\n",
    "        best_params = params\n",
    "\n",
    "# Finally, train a model with the best parameters on the full training set and evaluate it on the test set\n",
    "one_class_svm_best = OneClassSVM(kernel='rbf', **best_params)\n",
    "one_class_svm_best.fit(X_train_normal)\n",
    "y_pred = one_class_svm_best.predict(X_test)\n",
    "\n",
    "# Convert the predicted labels to match the original labels (0 for normal, 1 for anomaly/fraud)\n",
    "y_pred = np.where(y_pred == 1, 0, 1)\n",
    "\n",
    "print(f\"Best Parameters:\", best_params)\n",
    "print(\"Accuracy (roc_auc_score):\", roc_auc_score(y_test, y_pred))\n",
    "print(\"\\nConfusion Matrix:\\n\", confusion_matrix(y_test, y_pred))\n",
    "print(\"\\nClassification Report:\\n\", classification_report(y_test, y_pred))\n",
    "print(\"\\n\")"
   ]
  }
 ],
 "metadata": {
  "kernelspec": {
   "display_name": "Python [conda env:root] *",
   "language": "python",
   "name": "conda-root-py"
  },
  "language_info": {
   "codemirror_mode": {
    "name": "ipython",
    "version": 3
   },
   "file_extension": ".py",
   "mimetype": "text/x-python",
   "name": "python",
   "nbconvert_exporter": "python",
   "pygments_lexer": "ipython3",
   "version": "3.9.16"
  }
 },
 "nbformat": 4,
 "nbformat_minor": 5
}
