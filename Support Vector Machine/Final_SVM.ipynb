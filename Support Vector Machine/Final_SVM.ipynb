{
 "cells": [
  {
   "cell_type": "markdown",
   "id": "56f23655-8e86-4508-9bb1-5cc4b24c091a",
   "metadata": {},
   "source": [
    "# SVC Model"
   ]
  },
  {
   "cell_type": "code",
   "execution_count": 16,
   "id": "2b29bb39",
   "metadata": {},
   "outputs": [],
   "source": [
    "import pandas as pd\n",
    "import numpy as np\n",
    "from sklearn.neighbors import KNeighborsClassifier\n",
    "from sklearn.preprocessing import scale\n",
    "from sklearn.model_selection import GridSearchCV\n",
    "from sklearn.model_selection import train_test_split\n",
    "from sklearn.preprocessing import StandardScaler\n",
    "from sklearn.svm import SVC\n",
    "from sklearn.metrics import confusion_matrix, classification_report, roc_auc_score, average_precision_score"
   ]
  },
  {
   "cell_type": "code",
   "execution_count": 2,
   "id": "e3ded0b7",
   "metadata": {},
   "outputs": [
    {
     "data": {
      "text/plain": [
       "(284807, 31)"
      ]
     },
     "execution_count": 2,
     "metadata": {},
     "output_type": "execute_result"
    }
   ],
   "source": [
    "df = pd.read_csv(\"./creditcard.csv\")\n",
    "df.shape"
   ]
  },
  {
   "cell_type": "code",
   "execution_count": 3,
   "id": "6630dd2f",
   "metadata": {},
   "outputs": [
    {
     "data": {
      "text/plain": [
       "0.9982725143693799"
      ]
     },
     "execution_count": 3,
     "metadata": {},
     "output_type": "execute_result"
    }
   ],
   "source": [
    "df.Class.value_counts().max() / df.Class.value_counts().sum()"
   ]
  },
  {
   "cell_type": "code",
   "execution_count": 4,
   "id": "abce46f8",
   "metadata": {},
   "outputs": [],
   "source": [
    "df = df.dropna()"
   ]
  },
  {
   "cell_type": "code",
   "execution_count": 5,
   "id": "0ba6cbb8-28a2-40e9-b8ba-3b70b80e2cfa",
   "metadata": {},
   "outputs": [],
   "source": [
    "X = df.drop('Class', axis=1)\n",
    "y = df['Class']\n",
    "\n",
    "X_train, X_test, y_train, y_test = train_test_split(X, y, test_size=0.2, random_state=0)"
   ]
  },
  {
   "cell_type": "code",
   "execution_count": 6,
   "id": "a528807e-3beb-4bcc-b1e7-963584927b56",
   "metadata": {},
   "outputs": [],
   "source": [
    "scaler = StandardScaler()\n",
    "X_train = scaler.fit_transform(X_train)\n",
    "X_test = scaler.transform(X_test)"
   ]
  },
  {
   "cell_type": "code",
   "execution_count": 14,
   "id": "11072b7f",
   "metadata": {},
   "outputs": [
    {
     "data": {
      "text/html": [
       "<style>#sk-container-id-3 {color: black;background-color: white;}#sk-container-id-3 pre{padding: 0;}#sk-container-id-3 div.sk-toggleable {background-color: white;}#sk-container-id-3 label.sk-toggleable__label {cursor: pointer;display: block;width: 100%;margin-bottom: 0;padding: 0.3em;box-sizing: border-box;text-align: center;}#sk-container-id-3 label.sk-toggleable__label-arrow:before {content: \"▸\";float: left;margin-right: 0.25em;color: #696969;}#sk-container-id-3 label.sk-toggleable__label-arrow:hover:before {color: black;}#sk-container-id-3 div.sk-estimator:hover label.sk-toggleable__label-arrow:before {color: black;}#sk-container-id-3 div.sk-toggleable__content {max-height: 0;max-width: 0;overflow: hidden;text-align: left;background-color: #f0f8ff;}#sk-container-id-3 div.sk-toggleable__content pre {margin: 0.2em;color: black;border-radius: 0.25em;background-color: #f0f8ff;}#sk-container-id-3 input.sk-toggleable__control:checked~div.sk-toggleable__content {max-height: 200px;max-width: 100%;overflow: auto;}#sk-container-id-3 input.sk-toggleable__control:checked~label.sk-toggleable__label-arrow:before {content: \"▾\";}#sk-container-id-3 div.sk-estimator input.sk-toggleable__control:checked~label.sk-toggleable__label {background-color: #d4ebff;}#sk-container-id-3 div.sk-label input.sk-toggleable__control:checked~label.sk-toggleable__label {background-color: #d4ebff;}#sk-container-id-3 input.sk-hidden--visually {border: 0;clip: rect(1px 1px 1px 1px);clip: rect(1px, 1px, 1px, 1px);height: 1px;margin: -1px;overflow: hidden;padding: 0;position: absolute;width: 1px;}#sk-container-id-3 div.sk-estimator {font-family: monospace;background-color: #f0f8ff;border: 1px dotted black;border-radius: 0.25em;box-sizing: border-box;margin-bottom: 0.5em;}#sk-container-id-3 div.sk-estimator:hover {background-color: #d4ebff;}#sk-container-id-3 div.sk-parallel-item::after {content: \"\";width: 100%;border-bottom: 1px solid gray;flex-grow: 1;}#sk-container-id-3 div.sk-label:hover label.sk-toggleable__label {background-color: #d4ebff;}#sk-container-id-3 div.sk-serial::before {content: \"\";position: absolute;border-left: 1px solid gray;box-sizing: border-box;top: 0;bottom: 0;left: 50%;z-index: 0;}#sk-container-id-3 div.sk-serial {display: flex;flex-direction: column;align-items: center;background-color: white;padding-right: 0.2em;padding-left: 0.2em;position: relative;}#sk-container-id-3 div.sk-item {position: relative;z-index: 1;}#sk-container-id-3 div.sk-parallel {display: flex;align-items: stretch;justify-content: center;background-color: white;position: relative;}#sk-container-id-3 div.sk-item::before, #sk-container-id-3 div.sk-parallel-item::before {content: \"\";position: absolute;border-left: 1px solid gray;box-sizing: border-box;top: 0;bottom: 0;left: 50%;z-index: -1;}#sk-container-id-3 div.sk-parallel-item {display: flex;flex-direction: column;z-index: 1;position: relative;background-color: white;}#sk-container-id-3 div.sk-parallel-item:first-child::after {align-self: flex-end;width: 50%;}#sk-container-id-3 div.sk-parallel-item:last-child::after {align-self: flex-start;width: 50%;}#sk-container-id-3 div.sk-parallel-item:only-child::after {width: 0;}#sk-container-id-3 div.sk-dashed-wrapped {border: 1px dashed gray;margin: 0 0.4em 0.5em 0.4em;box-sizing: border-box;padding-bottom: 0.4em;background-color: white;}#sk-container-id-3 div.sk-label label {font-family: monospace;font-weight: bold;display: inline-block;line-height: 1.2em;}#sk-container-id-3 div.sk-label-container {text-align: center;}#sk-container-id-3 div.sk-container {/* jupyter's `normalize.less` sets `[hidden] { display: none; }` but bootstrap.min.css set `[hidden] { display: none !important; }` so we also need the `!important` here to be able to override the default hidden behavior on the sphinx rendered scikit-learn.org. See: https://github.com/scikit-learn/scikit-learn/issues/21755 */display: inline-block !important;position: relative;}#sk-container-id-3 div.sk-text-repr-fallback {display: none;}</style><div id=\"sk-container-id-3\" class=\"sk-top-container\"><div class=\"sk-text-repr-fallback\"><pre>SVC(kernel=&#x27;linear&#x27;, probability=True, random_state=45)</pre><b>In a Jupyter environment, please rerun this cell to show the HTML representation or trust the notebook. <br />On GitHub, the HTML representation is unable to render, please try loading this page with nbviewer.org.</b></div><div class=\"sk-container\" hidden><div class=\"sk-item\"><div class=\"sk-estimator sk-toggleable\"><input class=\"sk-toggleable__control sk-hidden--visually\" id=\"sk-estimator-id-3\" type=\"checkbox\" checked><label for=\"sk-estimator-id-3\" class=\"sk-toggleable__label sk-toggleable__label-arrow\">SVC</label><div class=\"sk-toggleable__content\"><pre>SVC(kernel=&#x27;linear&#x27;, probability=True, random_state=45)</pre></div></div></div></div></div>"
      ],
      "text/plain": [
       "SVC(kernel='linear', probability=True, random_state=45)"
      ]
     },
     "execution_count": 14,
     "metadata": {},
     "output_type": "execute_result"
    }
   ],
   "source": [
    "svm = SVC(kernel='linear', random_state=45, probability=True)\n",
    "svm.fit(X_train, y_train)"
   ]
  },
  {
   "cell_type": "code",
   "execution_count": 17,
   "id": "c7f68b3d",
   "metadata": {},
   "outputs": [],
   "source": [
    "y_pred = svm.predict(X_test)\n",
    "y_pred_proba = svm.predict_proba(X_test)[:, 1]\n",
    "auprc = average_precision_score(y_true=y_test, y_score=y_pred_proba)"
   ]
  },
  {
   "cell_type": "code",
   "execution_count": 18,
   "id": "7ed8058e",
   "metadata": {},
   "outputs": [
    {
     "name": "stdout",
     "output_type": "stream",
     "text": [
      "Accuracy (roc_auc_score): 0.9107328083892612\n",
      "\n",
      "Confusion Matrix:\n",
      " [[56843    18]\n",
      " [   18    83]]\n",
      "\n",
      "Classification Report:\n",
      "               precision    recall  f1-score   support\n",
      "\n",
      "           0       1.00      1.00      1.00     56861\n",
      "           1       0.82      0.82      0.82       101\n",
      "\n",
      "    accuracy                           1.00     56962\n",
      "   macro avg       0.91      0.91      0.91     56962\n",
      "weighted avg       1.00      1.00      1.00     56962\n",
      "\n",
      "\n",
      "Average Precision Score: 0.7535384071829317\n"
     ]
    }
   ],
   "source": [
    "print(\"Accuracy (roc_auc_score):\", roc_auc_score(y_test, y_pred))\n",
    "print(\"\\nConfusion Matrix:\\n\", confusion_matrix(y_test, y_pred))\n",
    "print(\"\\nClassification Report:\\n\", classification_report(y_test, y_pred))\n",
    "print(\"\\nAverage Precision Score:\", auprc)"
   ]
  },
  {
   "cell_type": "code",
   "execution_count": null,
   "id": "cc70d58a-56c2-4ec1-ab8b-1d7db3da4458",
   "metadata": {},
   "outputs": [],
   "source": [
    "y_pred_proba = grid_search.predict_proba(X_test)[:,1]\n",
    "average_precision_score(y_true=y, y_score=y_pred_proba)"
   ]
  },
  {
   "cell_type": "markdown",
   "id": "2f3f8192-a84a-405b-a619-f03eaf29aa57",
   "metadata": {},
   "source": [
    "# Random Undersampling + Anomaly Detection"
   ]
  },
  {
   "cell_type": "code",
   "execution_count": 6,
   "id": "7784da0f-d097-4f4e-8287-a14d372d1001",
   "metadata": {},
   "outputs": [],
   "source": [
    "import pandas as pd\n",
    "import numpy as np\n",
    "from sklearn.model_selection import train_test_split\n",
    "from sklearn.preprocessing import StandardScaler\n",
    "from sklearn.svm import OneClassSVM\n",
    "from sklearn.metrics import confusion_matrix, classification_report, accuracy_score\n",
    "from imblearn.under_sampling import RandomUnderSampler\n",
    "from sklearn.metrics import confusion_matrix, classification_report, roc_auc_score\n",
    "\n",
    "df = pd.read_csv(\"./creditcard.csv\")\n",
    "\n",
    "X = df.drop('Class', axis=1)\n",
    "y = df['Class']\n",
    "X_train, X_test, y_train, y_test = train_test_split(X, y, test_size=0.2, random_state=0)"
   ]
  },
  {
   "cell_type": "code",
   "execution_count": 24,
   "id": "5c3ddd43-c3ab-4379-8085-66d554ddd2ba",
   "metadata": {},
   "outputs": [],
   "source": [
    "scaler = StandardScaler()\n",
    "X_train = scaler.fit_transform(X_train)\n",
    "X_test = scaler.transform(X_test)"
   ]
  },
  {
   "cell_type": "code",
   "execution_count": 25,
   "id": "6edbeef4-0b2b-497d-9790-3b470022ad9a",
   "metadata": {},
   "outputs": [],
   "source": [
    "def train_evaluate(undersampling_ratio, X_train, y_train, X_test, y_test):\n",
    "    # random undersampling\n",
    "    rus = RandomUnderSampler(sampling_strategy=undersampling_ratio, random_state=0)\n",
    "    X_train_resampled, y_train_resampled = rus.fit_resample(X_train, y_train)\n",
    "    \n",
    "    # Filter out non-fradulent data from the resampled training set\n",
    "    X_train_normal = X_train_resampled[y_train_resampled == 0]\n",
    "\n",
    "    # Train a One-Class SVM model on the non-fradulent data\n",
    "    one_class_svm = OneClassSVM(kernel='rbf', nu=0.01, gamma='scale')\n",
    "    one_class_svm.fit(X_train_normal)\n",
    "    y_pred = one_class_svm.predict(X_test)\n",
    "\n",
    "    # # Convert the predicted labels to match the original labels (0 for normal, 1 for anomaly/fraud)\n",
    "    y_pred = np.where(y_pred == 1, 0, 1)\n",
    "\n",
    "    print(f\"Undersampling Ratio: {undersampling_ratio * 100}%\")\n",
    "    print(\"Accuracy (roc_auc_score):\", roc_auc_score(y_test, y_pred))\n",
    "    print(\"\\nConfusion Matrix:\\n\", confusion_matrix(y_test, y_pred))\n",
    "    print(\"\\nClassification Report:\\n\", classification_report(y_test, y_pred))\n",
    "    print(\"\\n\")"
   ]
  },
  {
   "cell_type": "code",
   "execution_count": 8,
   "id": "8ff66c53-ce3d-4f4c-804a-29a996d2610e",
   "metadata": {},
   "outputs": [
    {
     "name": "stdout",
     "output_type": "stream",
     "text": [
      "Percentage of non-fradulent records: majority class:0.998\n",
      "Percentage of fraud records (minority class):0.002\n"
     ]
    }
   ],
   "source": [
    "# Ratio Selection\n",
    "print(f\"Percentage of non-fradulent records: majority class:{(df.Class.value_counts().max() / df.Class.value_counts().sum()).round(3)}\")\n",
    "print(f\"Percentage of fraud records (minority class):{(df.Class.value_counts().min() / df.Class.value_counts().sum()).round(3)}\")"
   ]
  },
  {
   "cell_type": "code",
   "execution_count": 22,
   "id": "f22270be-c32e-4076-8828-403b77729306",
   "metadata": {},
   "outputs": [
    {
     "name": "stdout",
     "output_type": "stream",
     "text": [
      "Undersampling Ratio: 10.0%\n",
      "Accuracy (roc_auc_score): 0.9240978116063533\n",
      "\n",
      "Confusion Matrix:\n",
      " [[53454  3410]\n",
      " [    9    89]]\n",
      "\n",
      "Classification Report:\n",
      "               precision    recall  f1-score   support\n",
      "\n",
      "           0       1.00      0.94      0.97     56864\n",
      "           1       0.03      0.91      0.05        98\n",
      "\n",
      "    accuracy                           0.94     56962\n",
      "   macro avg       0.51      0.92      0.51     56962\n",
      "weighted avg       1.00      0.94      0.97     56962\n",
      "\n",
      "\n",
      "\n"
     ]
    }
   ],
   "source": [
    "undersampling_ratios = [0.1]\n",
    "\n",
    "for ratio in undersampling_ratios:\n",
    "    train_evaluate(ratio, X_train, y_train, X_test, y_test)"
   ]
  },
  {
   "cell_type": "markdown",
   "id": "c08a293e-dae4-4da0-a682-65c267170633",
   "metadata": {},
   "source": [
    "# Week 2 Improvements"
   ]
  },
  {
   "cell_type": "markdown",
   "id": "f05882f7-376f-4251-a1df-49a6e2f281a2",
   "metadata": {},
   "source": [
    "# Undersampling Improvements"
   ]
  },
  {
   "cell_type": "code",
   "execution_count": 33,
   "id": "2b945225-92f9-4632-9c5f-01d6cbdb5f6c",
   "metadata": {},
   "outputs": [],
   "source": [
    "from imblearn.under_sampling import RandomUnderSampler, NearMiss,TomekLinks, EditedNearestNeighbours, CondensedNearestNeighbour, OneSidedSelection\n",
    "from collections import Counter"
   ]
  },
  {
   "cell_type": "code",
   "execution_count": 34,
   "id": "94bd2ed8-f391-4e18-a9f3-5cc83f5e6768",
   "metadata": {},
   "outputs": [
    {
     "data": {
      "text/plain": [
       "(227845, 30)"
      ]
     },
     "execution_count": 34,
     "metadata": {},
     "output_type": "execute_result"
    }
   ],
   "source": [
    "import pandas as pd\n",
    "import numpy as np\n",
    "from sklearn.model_selection import train_test_split, GridSearchCV\n",
    "\n",
    "from sklearn.preprocessing import StandardScaler\n",
    "from sklearn.svm import OneClassSVM\n",
    "from sklearn.metrics import confusion_matrix, classification_report, accuracy_score,roc_auc_score, average_precision_score\n",
    "\n",
    "\n",
    "from imblearn.under_sampling import RandomUnderSampler\n",
    "from sklearn.model_selection import ParameterGrid\n",
    "df = pd.read_csv(\"./creditcard.csv\")\n",
    "df = df.dropna()\n",
    "\n",
    "X = df.drop('Class', axis=1)\n",
    "y = df['Class']\n",
    "X_train, X_test, y_train, y_test = train_test_split(X, y, test_size=0.2, random_state=0)\n",
    "X_train.shape"
   ]
  },
  {
   "cell_type": "code",
   "execution_count": 35,
   "id": "52a36cb5-9ac7-4954-a90e-d5d5dd7d252a",
   "metadata": {},
   "outputs": [],
   "source": [
    "def undersampling_distribution(name, X_train, y_train):\n",
    "    undersampling_methods = {\n",
    "        \"RandomUnderSampler\": RandomUnderSampler(sampling_strategy=0.1, random_state=0),\n",
    "        \"NearMiss\": NearMiss(version=1),\n",
    "        \"TomekLinks\": TomekLinks(sampling_strategy='majority'),\n",
    "        \"EditedNearestNeighbours\": EditedNearestNeighbours(sampling_strategy='majority'),\n",
    "        \"CondensedNearestNeighbour\": CondensedNearestNeighbour(random_state=0),\n",
    "        \"OneSidedSelection\": OneSidedSelection(random_state=0)\n",
    "    }\n",
    "    method = undersampling_methods[name]\n",
    "    X_resampled, y_resampled = method.fit_resample(X_train, y_train)\n",
    "    \n",
    "    # Print the number of instances in each class for the resampled data\n",
    "    print(f\"Method: {name}\")\n",
    "    print(\"Class distribution:\", Counter(y_resampled))\n",
    "    print(\"\\n\")\n",
    "    return X_resampled, y_resampled"
   ]
  },
  {
   "cell_type": "code",
   "execution_count": 39,
   "id": "3703c422-e453-481d-8df2-91f4d2a9e561",
   "metadata": {},
   "outputs": [
    {
     "name": "stdout",
     "output_type": "stream",
     "text": [
      "Original class distribution: Counter({0: 227454, 1: 391})\n"
     ]
    }
   ],
   "source": [
    "print(\"Original class distribution:\", Counter(y_train))"
   ]
  },
  {
   "cell_type": "code",
   "execution_count": 19,
   "id": "036c403e-d9c6-489b-a9de-a77e7de6ff38",
   "metadata": {},
   "outputs": [
    {
     "name": "stdout",
     "output_type": "stream",
     "text": [
      "Method: RandomUnderSampler\n",
      "Class distribution: Counter({0: 39100, 1: 391})\n",
      "\n",
      "\n"
     ]
    }
   ],
   "source": [
    "randomX,randomY = undersampling_distribution(\"RandomUnderSampler\",X_train, y_train)"
   ]
  },
  {
   "cell_type": "code",
   "execution_count": 1,
   "id": "66007c13-e669-4807-bcc2-6a03bc770607",
   "metadata": {},
   "outputs": [
    {
     "ename": "NameError",
     "evalue": "name 'undersampling_distribution' is not defined",
     "output_type": "error",
     "traceback": [
      "\u001b[0;31m---------------------------------------------------------------------------\u001b[0m",
      "\u001b[0;31mNameError\u001b[0m                                 Traceback (most recent call last)",
      "Cell \u001b[0;32mIn[1], line 1\u001b[0m\n\u001b[0;32m----> 1\u001b[0m nearmissX, nearmissY \u001b[38;5;241m=\u001b[39m \u001b[43mundersampling_distribution\u001b[49m(\u001b[38;5;124m\"\u001b[39m\u001b[38;5;124mNearMiss\u001b[39m\u001b[38;5;124m\"\u001b[39m, X_train, y_train)\n",
      "\u001b[0;31mNameError\u001b[0m: name 'undersampling_distribution' is not defined"
     ]
    }
   ],
   "source": [
    "nearmissX, nearmissY = undersampling_distribution(\"NearMiss\", X_train, y_train)"
   ]
  },
  {
   "cell_type": "code",
   "execution_count": 4,
   "id": "3ce4cb64-99be-4eaa-9a72-c801ddc0a587",
   "metadata": {},
   "outputs": [
    {
     "name": "stdout",
     "output_type": "stream",
     "text": [
      "Method: TomekLinks\n",
      "Class distribution: Counter({0: 28414, 1: 51})\n",
      "\n",
      "\n"
     ]
    }
   ],
   "source": [
    "tomekX, tomekY = undersampling_distribution(\"TomekLinks\", X_train, y_train)"
   ]
  },
  {
   "cell_type": "code",
   "execution_count": null,
   "id": "47267038-db99-4b9b-820d-3bca3784faad",
   "metadata": {},
   "outputs": [
    {
     "name": "stderr",
     "output_type": "stream",
     "text": [
      "OpenBLAS warning: precompiled NUM_THREADS exceeded, adding auxiliary array for thread metadata.\n"
     ]
    }
   ],
   "source": [
    "ennX, ennY = undersampling_distribution(\"EditedNearestNeighbours\", X_train, y_train)"
   ]
  },
  {
   "cell_type": "code",
   "execution_count": null,
   "id": "1b83730e-fecd-4613-b839-a71b6f6adce4",
   "metadata": {},
   "outputs": [],
   "source": [
    "cnnX, cnnY = undersampling_distribution(\"CondensedNearestNeighbour\", X_train, y_train)"
   ]
  },
  {
   "cell_type": "code",
   "execution_count": null,
   "id": "0e706efb-fa1d-4122-8a33-b92fbfe8a3ef",
   "metadata": {},
   "outputs": [
    {
     "name": "stderr",
     "output_type": "stream",
     "text": [
      "OpenBLAS warning: precompiled NUM_THREADS exceeded, adding auxiliary array for thread metadata.\n"
     ]
    }
   ],
   "source": [
    "ossX, ossY = undersampling_distribution(\"OneSidedSelection\", X_train, y_train)"
   ]
  },
  {
   "cell_type": "code",
   "execution_count": 36,
   "id": "35f55c48-aa99-47f8-99a9-391f0fe13d7b",
   "metadata": {},
   "outputs": [],
   "source": [
    "scaler = StandardScaler()\n",
    "X_train = scaler.fit_transform(X_train)\n",
    "X_test = scaler.transform(X_test)"
   ]
  },
  {
   "cell_type": "code",
   "execution_count": 37,
   "id": "f0ac7a79-11ad-41e3-a7d9-79a2b63eb4de",
   "metadata": {},
   "outputs": [
    {
     "name": "stdout",
     "output_type": "stream",
     "text": [
      "Method: RandomUnderSampler\n",
      "Class distribution: Counter({0: 3910, 1: 391})\n",
      "\n",
      "\n"
     ]
    },
    {
     "ename": "NameError",
     "evalue": "name 'grid_search' is not defined",
     "output_type": "error",
     "traceback": [
      "\u001b[0;31m---------------------------------------------------------------------------\u001b[0m",
      "\u001b[0;31mNameError\u001b[0m                                 Traceback (most recent call last)",
      "Cell \u001b[0;32mIn[37], line 30\u001b[0m\n\u001b[1;32m     26\u001b[0m one_class_svm\u001b[38;5;241m.\u001b[39mfit(X_train_normal)\n\u001b[1;32m     28\u001b[0m y_test_pred \u001b[38;5;241m=\u001b[39m one_class_svm\u001b[38;5;241m.\u001b[39mpredict(X_test)\n\u001b[0;32m---> 30\u001b[0m score \u001b[38;5;241m=\u001b[39m \u001b[43mcustom_scorer\u001b[49m\u001b[43m(\u001b[49m\u001b[43my_test\u001b[49m\u001b[43m,\u001b[49m\u001b[43m \u001b[49m\u001b[43my_test_pred\u001b[49m\u001b[43m)\u001b[49m\n\u001b[1;32m     32\u001b[0m \u001b[38;5;28;01mif\u001b[39;00m score \u001b[38;5;241m>\u001b[39m best_score:\n\u001b[1;32m     33\u001b[0m     best_score \u001b[38;5;241m=\u001b[39m score\n",
      "Cell \u001b[0;32mIn[37], line 6\u001b[0m, in \u001b[0;36mcustom_scorer\u001b[0;34m(y, y_pred)\u001b[0m\n\u001b[1;32m      3\u001b[0m \u001b[38;5;28;01mdef\u001b[39;00m \u001b[38;5;21mcustom_scorer\u001b[39m(y, y_pred):\n\u001b[1;32m      4\u001b[0m     \u001b[38;5;66;03m# Convert the predicted labels to match the original labels (0 for normal, 1 for anomaly/fraud)\u001b[39;00m\n\u001b[1;32m      5\u001b[0m     y_pred \u001b[38;5;241m=\u001b[39m np\u001b[38;5;241m.\u001b[39mwhere(y_pred \u001b[38;5;241m==\u001b[39m \u001b[38;5;241m-\u001b[39m\u001b[38;5;241m1\u001b[39m, \u001b[38;5;241m1\u001b[39m, \u001b[38;5;241m0\u001b[39m)\n\u001b[0;32m----> 6\u001b[0m     y_pred_proba \u001b[38;5;241m=\u001b[39m \u001b[43mgrid_search\u001b[49m\u001b[38;5;241m.\u001b[39mpredict_proba(X_test)\n\u001b[1;32m      7\u001b[0m     \u001b[38;5;28;01mreturn\u001b[39;00m average_precision_score(y_true\u001b[38;5;241m=\u001b[39my, y_score\u001b[38;5;241m=\u001b[39my_pred)\n",
      "\u001b[0;31mNameError\u001b[0m: name 'grid_search' is not defined"
     ]
    }
   ],
   "source": [
    "from sklearn.metrics import f1_score\n",
    "\n",
    "def custom_scorer(y, y_pred):\n",
    "    # Convert the predicted labels to match the original labels (0 for normal, 1 for anomaly/fraud)\n",
    "    y_pred = np.where(y_pred == -1, 1, 0)\n",
    "    y_pred_proba = grid_search.predict_proba(X_test)\n",
    "    return average_precision_score(y_true=y, y_score=y_pred)\n",
    "\n",
    "best_score = 0\n",
    "best_params = None\n",
    "\n",
    "X_train_resampled, y_train_resampled = undersampling_distribution(\"RandomUnderSampler\",X_train, y_train)\n",
    "# X_train_resampled, y_train_resampled = tomekX, tomekY\n",
    "# Filter out non-fraudulent data from the resampled training set\n",
    "X_train_normal = X_train_resampled[y_train_resampled == 0]\n",
    "\n",
    "# Define the hyperparameter grid\n",
    "param_grid = {\n",
    "    'nu': [.015,],\n",
    "    'gamma': ['auto'],\n",
    "}\n",
    "\n",
    "# Iterate over all combinations of hyperparameters\n",
    "for params in ParameterGrid(param_grid):\n",
    "    one_class_svm = OneClassSVM(**params)\n",
    "    one_class_svm.fit(X_train_normal)\n",
    "    \n",
    "    y_test_pred = one_class_svm.predict(X_test)\n",
    "    \n",
    "    score = custom_scorer(y_test, y_test_pred)\n",
    "    \n",
    "    if score > best_score:\n",
    "        best_score = score\n",
    "        best_params = params\n",
    "\n",
    "# Finally, train a model with the best parameters on the full training set and evaluate it on the test set\n",
    "one_class_svm_best = one_class_svm\n",
    "one_class_svm_best.fit(X_train_normal)"
   ]
  },
  {
   "cell_type": "code",
   "execution_count": 31,
   "id": "6c117dfe-4da8-4b60-b7ab-7d244bf81dd4",
   "metadata": {},
   "outputs": [
    {
     "name": "stdout",
     "output_type": "stream",
     "text": [
      "Counter({-1: 255631, 1: 696})\n",
      "Best Parameters: {'gamma': 'auto', 'nu': 0.015}\n",
      "Best F1 Score: 0.0034350074775672985\n",
      "Accuracy (roc_auc_score): 0.4986400193836318\n",
      "\n",
      "Confusion Matrix:\n",
      " [[255190    696]\n",
      " [   441      0]]\n",
      "\n",
      "Classification Report:\n",
      "               precision    recall  f1-score   support\n",
      "\n",
      "           0       1.00      1.00      1.00    255886\n",
      "           1       0.00      0.00      0.00       441\n",
      "\n",
      "    accuracy                           1.00    256327\n",
      "   macro avg       0.50      0.50      0.50    256327\n",
      "weighted avg       1.00      1.00      1.00    256327\n",
      "\n",
      "\n",
      "\n"
     ]
    }
   ],
   "source": [
    "y_pred = one_class_svm_best.predict(X_test)\n",
    "print(Counter(y_pred))\n",
    "y_pred = np.where(y_pred == -1, 0, 1)\n",
    "print(f\"Best Parameters:\", best_params)\n",
    "print(\"Accuracy:\", best_score) # This will now print the best F1 score\n",
    "print(\"Accuracy (roc_auc_score):\", roc_auc_score(y_test, y_pred))\n",
    "print(\"\\nConfusion Matrix:\\n\", confusion_matrix(y_test, y_pred))\n",
    "print(\"\\nClassification Report:\\n\", classification_report(y_test, y_pred))\n",
    "print(\"\\n\")"
   ]
  }
 ],
 "metadata": {
  "kernelspec": {
   "display_name": "Python [conda env:root] *",
   "language": "python",
   "name": "conda-root-py"
  },
  "language_info": {
   "codemirror_mode": {
    "name": "ipython",
    "version": 3
   },
   "file_extension": ".py",
   "mimetype": "text/x-python",
   "name": "python",
   "nbconvert_exporter": "python",
   "pygments_lexer": "ipython3",
   "version": "3.9.16"
  }
 },
 "nbformat": 4,
 "nbformat_minor": 5
}
