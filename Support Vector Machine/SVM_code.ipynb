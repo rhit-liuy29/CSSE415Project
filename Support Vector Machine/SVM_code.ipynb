{
 "cells": [
  {
   "cell_type": "markdown",
   "id": "56f23655-8e86-4508-9bb1-5cc4b24c091a",
   "metadata": {},
   "source": [
    "# Initial SVC Model"
   ]
  },
  {
   "cell_type": "code",
   "execution_count": 8,
   "id": "2b29bb39",
   "metadata": {},
   "outputs": [],
   "source": [
    "import pandas as pd\n",
    "import numpy as np\n",
    "from sklearn.neighbors import KNeighborsClassifier\n",
    "from sklearn.preprocessing import scale\n",
    "from sklearn.model_selection import GridSearchCV\n",
    "from sklearn.model_selection import train_test_split\n",
    "from sklearn.preprocessing import StandardScaler\n",
    "from sklearn.svm import SVC\n",
    "from sklearn.metrics import confusion_matrix, classification_report, roc_auc_score"
   ]
  },
  {
   "cell_type": "code",
   "execution_count": 44,
   "id": "e3ded0b7",
   "metadata": {},
   "outputs": [
    {
     "data": {
      "text/plain": [
       "(284807, 31)"
      ]
     },
     "execution_count": 2,
     "metadata": {},
     "output_type": "execute_result"
    }
   ],
   "source": [
    "df = pd.read_csv(\"./creditcard.csv\")\n",
    "df.shape"
   ]
  },
  {
   "cell_type": "code",
   "execution_count": 45,
   "id": "6630dd2f",
   "metadata": {},
   "outputs": [
    {
     "data": {
      "text/plain": [
       "0.9982725143693799"
      ]
     },
     "execution_count": 45,
     "metadata": {},
     "output_type": "execute_result"
    }
   ],
   "source": [
    "df.Class.value_counts().max() / df.Class.value_counts().sum()"
   ]
  },
  {
   "cell_type": "code",
   "execution_count": 46,
   "id": "abce46f8",
   "metadata": {},
   "outputs": [],
   "source": [
    "df = df.dropna()"
   ]
  },
  {
   "cell_type": "code",
   "execution_count": 47,
   "id": "0ba6cbb8-28a2-40e9-b8ba-3b70b80e2cfa",
   "metadata": {},
   "outputs": [],
   "source": [
    "X = df.drop('Class', axis=1)\n",
    "y = df['Class']\n",
    "\n",
    "X_train, X_test, y_train, y_test = train_test_split(X, y, test_size=0.2, random_state=42)"
   ]
  },
  {
   "cell_type": "code",
   "execution_count": 48,
   "id": "a528807e-3beb-4bcc-b1e7-963584927b56",
   "metadata": {},
   "outputs": [],
   "source": [
    "scaler = StandardScaler()\n",
    "X_train = scaler.fit_transform(X_train)\n",
    "X_test = scaler.transform(X_test)"
   ]
  },
  {
   "cell_type": "code",
   "execution_count": null,
   "id": "11072b7f",
   "metadata": {},
   "outputs": [],
   "source": [
    "svm = SVC(kernel='linear', random_state=45)\n",
    "svm.fit(X_train, y_train)"
   ]
  },
  {
   "cell_type": "code",
   "execution_count": 14,
   "id": "c7f68b3d",
   "metadata": {},
   "outputs": [],
   "source": [
    "y_pred = svm.predict(X_test)"
   ]
  },
  {
   "cell_type": "code",
   "execution_count": 19,
   "id": "7ed8058e",
   "metadata": {},
   "outputs": [
    {
     "name": "stdout",
     "output_type": "stream",
     "text": [
      "Accuracy: 0.8927076633973792\n",
      "\n",
      "Confusion Matrix:\n",
      " [[56847    17]\n",
      " [   21    77]]\n",
      "\n",
      "Classification Report:\n",
      "               precision    recall  f1-score   support\n",
      "\n",
      "           0       1.00      1.00      1.00     56864\n",
      "           1       0.82      0.79      0.80        98\n",
      "\n",
      "    accuracy                           1.00     56962\n",
      "   macro avg       0.91      0.89      0.90     56962\n",
      "weighted avg       1.00      1.00      1.00     56962\n",
      "\n"
     ]
    }
   ],
   "source": [
    "print(\"Accuracy (roc_auc_score):\", roc_auc_score(y_test, y_pred))\n",
    "print(\"\\nConfusion Matrix:\\n\", confusion_matrix(y_test, y_pred))\n",
    "print(\"\\nClassification Report:\\n\", classification_report(y_test, y_pred))\n"
   ]
  },
  {
   "cell_type": "markdown",
   "id": "2f3f8192-a84a-405b-a619-f03eaf29aa57",
   "metadata": {},
   "source": [
    "# Random Undersampling + Anomaly Detection"
   ]
  },
  {
   "cell_type": "code",
   "execution_count": 1,
   "id": "4df0b5dd-fbd0-4072-9f87-88f1722839c2",
   "metadata": {},
   "outputs": [],
   "source": [
    "import pandas as pd\n",
    "import numpy as np\n",
    "from sklearn.model_selection import train_test_split\n",
    "from sklearn.preprocessing import StandardScaler\n",
    "from sklearn.svm import OneClassSVM\n",
    "from sklearn.metrics import confusion_matrix, classification_report, accuracy_score\n",
    "from imblearn.under_sampling import RandomUnderSampler\n",
    "from sklearn.metrics import confusion_matrix, classification_report, roc_auc_score"
   ]
  },
  {
   "cell_type": "code",
   "execution_count": 2,
   "id": "6167b1fc-aa94-40ad-87f8-d932cd15d395",
   "metadata": {},
   "outputs": [],
   "source": [
    "df = pd.read_csv(\"./creditcard.csv\")"
   ]
  },
  {
   "cell_type": "code",
   "execution_count": 3,
   "id": "0d46cb37-2d4f-4b72-b635-1b53c3fafb2d",
   "metadata": {},
   "outputs": [],
   "source": [
    "X = df.drop('Class', axis=1)\n",
    "y = df['Class']\n",
    "X_train, X_test, y_train, y_test = train_test_split(X, y, test_size=0.2, random_state=42)"
   ]
  },
  {
   "cell_type": "code",
   "execution_count": 4,
   "id": "5c3ddd43-c3ab-4379-8085-66d554ddd2ba",
   "metadata": {},
   "outputs": [],
   "source": [
    "scaler = StandardScaler()\n",
    "X_train = scaler.fit_transform(X_train)\n",
    "X_test = scaler.transform(X_test)"
   ]
  },
  {
   "cell_type": "code",
   "execution_count": 5,
   "id": "6edbeef4-0b2b-497d-9790-3b470022ad9a",
   "metadata": {},
   "outputs": [],
   "source": [
    "def train_evaluate(undersampling_ratio, X_train, y_train, X_test, y_test):\n",
    "    # random undersampling\n",
    "    rus = RandomUnderSampler(sampling_strategy=undersampling_ratio, random_state=42)\n",
    "    X_train_resampled, y_train_resampled = rus.fit_resample(X_train, y_train)\n",
    "    \n",
    "    # Filter out non-fradulent data from the resampled training set\n",
    "    X_train_normal = X_train_resampled[y_train_resampled == 0]\n",
    "\n",
    "    # Train a One-Class SVM model on the non-fradulent data\n",
    "    one_class_svm = OneClassSVM(kernel='rbf', nu=0.01, gamma='scale')\n",
    "    one_class_svm.fit(X_train_normal)\n",
    "    y_pred = one_class_svm.predict(X_test)\n",
    "\n",
    "    # # Convert the predicted labels to match the original labels (0 for normal, 1 for anomaly/fraud)\n",
    "    y_pred = np.where(y_pred == 1, 0, 1)\n",
    "\n",
    "    print(f\"Undersampling Ratio: {undersampling_ratio * 100}%\")\n",
    "    print(\"Accuracy (roc_auc_score):\", roc_auc_score(y_test, y_pred))\n",
    "    print(\"\\nConfusion Matrix:\\n\", confusion_matrix(y_test, y_pred))\n",
    "    print(\"\\nClassification Report:\\n\", classification_report(y_test, y_pred))\n",
    "    print(\"\\n\")\n"
   ]
  },
  {
   "cell_type": "code",
   "execution_count": 8,
   "id": "8ff66c53-ce3d-4f4c-804a-29a996d2610e",
   "metadata": {},
   "outputs": [
    {
     "name": "stdout",
     "output_type": "stream",
     "text": [
      "Percentage of non-fradulent records: majority class:0.998\n",
      "Percentage of fraud records (minority class):0.002\n"
     ]
    }
   ],
   "source": [
    "# Ratio Selection\n",
    "print(f\"Percentage of non-fradulent records: majority class:{(df.Class.value_counts().max() / df.Class.value_counts().sum()).round(3)}\")\n",
    "print(f\"Percentage of fraud records (minority class):{(df.Class.value_counts().min() / df.Class.value_counts().sum()).round(3)}\")"
   ]
  },
  {
   "cell_type": "code",
   "execution_count": 7,
   "id": "f22270be-c32e-4076-8828-403b77729306",
   "metadata": {},
   "outputs": [
    {
     "name": "stdout",
     "output_type": "stream",
     "text": [
      "Undersampling Ratio: 70.0%\n",
      "Accuracy (roc_auc_score): 0.8970529756640979\n",
      "\n",
      "Confusion Matrix:\n",
      " [[49798  7066]\n",
      " [    8    90]]\n",
      "\n",
      "Classification Report:\n",
      "               precision    recall  f1-score   support\n",
      "\n",
      "           0       1.00      0.88      0.93     56864\n",
      "           1       0.01      0.92      0.02        98\n",
      "\n",
      "    accuracy                           0.88     56962\n",
      "   macro avg       0.51      0.90      0.48     56962\n",
      "weighted avg       1.00      0.88      0.93     56962\n",
      "\n",
      "\n",
      "\n",
      "Undersampling Ratio: 40.0%\n",
      "Accuracy (roc_auc_score): 0.9110073228785043\n",
      "\n",
      "Confusion Matrix:\n",
      " [[51385  5479]\n",
      " [    8    90]]\n",
      "\n",
      "Classification Report:\n",
      "               precision    recall  f1-score   support\n",
      "\n",
      "           0       1.00      0.90      0.95     56864\n",
      "           1       0.02      0.92      0.03        98\n",
      "\n",
      "    accuracy                           0.90     56962\n",
      "   macro avg       0.51      0.91      0.49     56962\n",
      "weighted avg       1.00      0.90      0.95     56962\n",
      "\n",
      "\n",
      "\n",
      "Undersampling Ratio: 10.0%\n",
      "Accuracy (roc_auc_score): 0.9240978116063533\n",
      "\n",
      "Confusion Matrix:\n",
      " [[53454  3410]\n",
      " [    9    89]]\n",
      "\n",
      "Classification Report:\n",
      "               precision    recall  f1-score   support\n",
      "\n",
      "           0       1.00      0.94      0.97     56864\n",
      "           1       0.03      0.91      0.05        98\n",
      "\n",
      "    accuracy                           0.94     56962\n",
      "   macro avg       0.51      0.92      0.51     56962\n",
      "weighted avg       1.00      0.94      0.97     56962\n",
      "\n",
      "\n",
      "\n",
      "Undersampling Ratio: 1.0%\n",
      "Accuracy (roc_auc_score): 0.9073058669162657\n",
      "\n",
      "Confusion Matrix:\n",
      " [[55606  1258]\n",
      " [   16    82]]\n",
      "\n",
      "Classification Report:\n",
      "               precision    recall  f1-score   support\n",
      "\n",
      "           0       1.00      0.98      0.99     56864\n",
      "           1       0.06      0.84      0.11        98\n",
      "\n",
      "    accuracy                           0.98     56962\n",
      "   macro avg       0.53      0.91      0.55     56962\n",
      "weighted avg       1.00      0.98      0.99     56962\n",
      "\n",
      "\n",
      "\n",
      "Undersampling Ratio: 0.2%\n",
      "Accuracy (roc_auc_score): 0.9065387304330849\n",
      "\n",
      "Confusion Matrix:\n",
      " [[56099   765]\n",
      " [   17    81]]\n",
      "\n",
      "Classification Report:\n",
      "               precision    recall  f1-score   support\n",
      "\n",
      "           0       1.00      0.99      0.99     56864\n",
      "           1       0.10      0.83      0.17        98\n",
      "\n",
      "    accuracy                           0.99     56962\n",
      "   macro avg       0.55      0.91      0.58     56962\n",
      "weighted avg       1.00      0.99      0.99     56962\n",
      "\n",
      "\n",
      "\n"
     ]
    }
   ],
   "source": [
    "undersampling_ratios = [0.7, 0.4, 0.1, 0.01, 0.002]\n",
    "\n",
    "for ratio in undersampling_ratios:\n",
    "    train_evaluate(ratio, X_train, y_train, X_test, y_test)"
   ]
  },
  {
   "cell_type": "code",
   "execution_count": null,
   "id": "1845f547-3954-431f-9e79-246139eb030f",
   "metadata": {},
   "outputs": [],
   "source": []
  }
 ],
 "metadata": {
  "kernelspec": {
   "display_name": "Python [conda env:root] *",
   "language": "python",
   "name": "conda-root-py"
  },
  "language_info": {
   "codemirror_mode": {
    "name": "ipython",
    "version": 3
   },
   "file_extension": ".py",
   "mimetype": "text/x-python",
   "name": "python",
   "nbconvert_exporter": "python",
   "pygments_lexer": "ipython3",
   "version": "3.9.16"
  }
 },
 "nbformat": 4,
 "nbformat_minor": 5
}
