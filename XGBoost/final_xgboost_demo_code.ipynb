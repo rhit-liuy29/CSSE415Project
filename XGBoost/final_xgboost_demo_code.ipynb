{
 "cells": [
  {
   "cell_type": "code",
   "execution_count": 1,
   "id": "a9466e3f-047f-4cc4-87eb-b8230c788bbb",
   "metadata": {},
   "outputs": [],
   "source": [
    "import pandas as pd\n",
    "import numpy as np\n",
    "import time\n",
    "from sklearn.model_selection import train_test_split, GridSearchCV, StratifiedKFold\n",
    "from sklearn.ensemble import RandomForestClassifier\n",
    "from sklearn.metrics import roc_auc_score, f1_score, recall_score, precision_score, average_precision_score\n",
    "from xgboost import XGBClassifier\n",
    "from sklearn.preprocessing import StandardScaler, PowerTransformer\n",
    "from imblearn.over_sampling import SMOTE, ADASYN\n",
    "from imblearn.under_sampling import RandomUnderSampler\n",
    "import seaborn as sns\n",
    "from sklearn import preprocessing"
   ]
  },
  {
   "cell_type": "code",
   "execution_count": 2,
   "id": "cc698e81-483e-4adb-b395-ce4c6ba5fcb3",
   "metadata": {},
   "outputs": [],
   "source": [
    "# Load the dataset\n",
    "data = pd.read_csv('creditcard.csv')\n",
    "\n",
    "# Preprocessing\n",
    "X = data.drop(['Class', 'Time'], axis=1)\n",
    "y = data['Class']\n",
    "scaler = StandardScaler()\n",
    "X[['Amount']] = scaler.fit_transform(X[['Amount']])\n",
    "X_train, X_test, y_train, y_test = train_test_split(X, y, test_size=0.2, random_state=42, stratify=y)\n",
    "stratified_kfold = StratifiedKFold(n_splits=3, shuffle=False, random_state=None)"
   ]
  },
  {
   "cell_type": "code",
   "execution_count": 3,
   "id": "622a3867-4c98-49f4-b824-4c038a0a2e80",
   "metadata": {},
   "outputs": [],
   "source": [
    "# Skewness correction\n",
    "pt = preprocessing.PowerTransformer(method='yeo-johnson', copy=True)\n",
    "pt.fit(X_train)\n",
    "X_train_pt = pt.transform(X_train)\n",
    "X_test_pt = pt.transform(X_test)\n"
   ]
  },
  {
   "cell_type": "code",
   "execution_count": 4,
   "id": "b3e856c1-96f5-4643-b0f9-ad07b27ccd8c",
   "metadata": {},
   "outputs": [],
   "source": [
    "# Resampling techniques\n",
    "resampling_methods = {\n",
    "    'SMOTE': SMOTE(random_state=0).fit_resample(X_train, y_train),\n",
    "}"
   ]
  },
  {
   "cell_type": "code",
   "execution_count": 5,
   "id": "f7d927ac-4492-44bb-b23d-4c2d6b014085",
   "metadata": {},
   "outputs": [],
   "source": [
    "# Classifiers\n",
    "classifiers = {\n",
    "    'XGBoost': (XGBClassifier(n_jobs=-1, objective='binary:logistic'), {\n",
    "        'max_depth': [10],\n",
    "        'learning_rate': [0.1],\n",
    "        'subsample': [0.9],\n",
    "        'n_estimators': [300],\n",
    "    })\n",
    "}"
   ]
  },
  {
   "cell_type": "code",
   "execution_count": 6,
   "id": "5ad37968-4a55-44f3-9410-3aff36617db1",
   "metadata": {},
   "outputs": [],
   "source": [
    "# DataFrame to store the results\n",
    "results_df = pd.DataFrame(columns=['Classifier', 'Resampling', 'AUPRC', 'F1', 'Recall', 'Precision', 'Best Parameters', 'Time'])\n"
   ]
  },
  {
   "cell_type": "code",
   "execution_count": 7,
   "id": "b2ca6043-ce35-4e45-abad-d0130b54885c",
   "metadata": {},
   "outputs": [
    {
     "name": "stdout",
     "output_type": "stream",
     "text": [
      "Training XGBoost classifier using SMOTE resampling...\n",
      "Fitting 3 folds for each of 1 candidates, totalling 3 fits\n",
      "Finished training XGBoost classifier using SMOTE resampling. Elapsed time: 901.75 seconds.\n"
     ]
    }
   ],
   "source": [
    "# Train and evaluate classifiers\n",
    "row_index = 0\n",
    "for resampling_name, (X_train_resampled, y_train_resampled) in resampling_methods.items():\n",
    "    for classifier_name, (classifier, params) in classifiers.items():\n",
    "        start_time = time.time()\n",
    "        print(f\"Training {classifier_name} classifier using {resampling_name} resampling...\")\n",
    "        grid_search = GridSearchCV(classifier, params, scoring='average_precision', cv=stratified_kfold, verbose=1, n_jobs=-1)\n",
    "        grid_search.fit(X_train_resampled, y_train_resampled)\n",
    "        y_pred_proba = grid_search.predict_proba(X_test)[:, 1]\n",
    "        y_pred = grid_search.predict(X_test)\n",
    "        auprc = average_precision_score(y_true=y_test, y_score=y_pred_proba)\n",
    "        f1 = f1_score(y_test, y_pred)\n",
    "        recall = recall_score(y_test, y_pred)\n",
    "        precision = precision_score(y_test, y_pred)\n",
    "        end_time = time.time()\n",
    "        elapsed_time = end_time - start_time\n",
    "        print(f\"Finished training {classifier_name} classifier using {resampling_name} resampling. Elapsed time: {elapsed_time:.2f} seconds.\")\n",
    "        results_df.loc[row_index] = [classifier_name, resampling_name, auprc, f1, recall, precision, grid_search.best_params_, elapsed_time]\n",
    "        row_index += 1"
   ]
  },
  {
   "cell_type": "code",
   "execution_count": 10,
   "id": "92b974ab-12e5-4062-b2b2-3a7d2708f96e",
   "metadata": {},
   "outputs": [
    {
     "name": "stdout",
     "output_type": "stream",
     "text": [
      "Classifier performance (AUPRC, F1 Score, Recall, Precision), best parameters, and time:\n"
     ]
    },
    {
     "data": {
      "text/html": [
       "<div>\n",
       "<style scoped>\n",
       "    .dataframe tbody tr th:only-of-type {\n",
       "        vertical-align: middle;\n",
       "    }\n",
       "\n",
       "    .dataframe tbody tr th {\n",
       "        vertical-align: top;\n",
       "    }\n",
       "\n",
       "    .dataframe thead th {\n",
       "        text-align: right;\n",
       "    }\n",
       "</style>\n",
       "<table border=\"1\" class=\"dataframe\">\n",
       "  <thead>\n",
       "    <tr style=\"text-align: right;\">\n",
       "      <th></th>\n",
       "      <th>Classifier</th>\n",
       "      <th>Resampling</th>\n",
       "      <th>AUPRC</th>\n",
       "      <th>F1</th>\n",
       "      <th>Recall</th>\n",
       "      <th>Precision</th>\n",
       "      <th>Best Parameters</th>\n",
       "      <th>Time</th>\n",
       "    </tr>\n",
       "  </thead>\n",
       "  <tbody>\n",
       "    <tr>\n",
       "      <th>0</th>\n",
       "      <td>XGBoost</td>\n",
       "      <td>SMOTE</td>\n",
       "      <td>0.882779</td>\n",
       "      <td>0.835821</td>\n",
       "      <td>0.857143</td>\n",
       "      <td>0.815534</td>\n",
       "      <td>{'learning_rate': 0.1, 'max_depth': 10, 'n_est...</td>\n",
       "      <td>901.745067</td>\n",
       "    </tr>\n",
       "  </tbody>\n",
       "</table>\n",
       "</div>"
      ],
      "text/plain": [
       "  Classifier Resampling     AUPRC        F1    Recall  Precision  \\\n",
       "0    XGBoost      SMOTE  0.882779  0.835821  0.857143   0.815534   \n",
       "\n",
       "                                     Best Parameters        Time  \n",
       "0  {'learning_rate': 0.1, 'max_depth': 10, 'n_est...  901.745067  "
      ]
     },
     "execution_count": 10,
     "metadata": {},
     "output_type": "execute_result"
    }
   ],
   "source": [
    "# Print the results\n",
    "print(\"Classifier performance (AUPRC, F1 Score, Recall, Precision), best parameters, and time:\")\n",
    "results_df.head(len(resampling_methods) * len(classifiers))"
   ]
  },
  {
   "cell_type": "code",
   "execution_count": null,
   "id": "14421c15-b3e6-4aac-808b-460f8c321fce",
   "metadata": {},
   "outputs": [],
   "source": [
    "x_test_predict = X_test.iloc[0:2]\n",
    "x_test_predict.head()"
   ]
  },
  {
   "cell_type": "code",
   "execution_count": null,
   "id": "a90d45ca-f866-48a6-b092-7adaa4909d34",
   "metadata": {},
   "outputs": [],
   "source": [
    "y_test_ans = y_test.iloc[0:2]\n",
    "y_test_ans"
   ]
  },
  {
   "cell_type": "code",
   "execution_count": 32,
   "id": "01f4df6e-dabe-4ded-8b69-b03954bc6bb6",
   "metadata": {},
   "outputs": [],
   "source": [
    "ans  = grid_search.best_estimator_.predict(x_test_predict)"
   ]
  },
  {
   "cell_type": "code",
   "execution_count": null,
   "id": "181c1fbf-ab5f-4a75-9b85-baf1d12408da",
   "metadata": {},
   "outputs": [],
   "source": [
    "ans\n"
   ]
  },
  {
   "cell_type": "code",
   "execution_count": 34,
   "id": "f73afe28-fb3f-43aa-9238-970bc34c17aa",
   "metadata": {},
   "outputs": [],
   "source": [
    "ans_1  = grid_search.best_estimator_.predict(X_test)\n"
   ]
  },
  {
   "cell_type": "code",
   "execution_count": null,
   "id": "040612f3-bfaa-456b-8c67-34143eae87fb",
   "metadata": {},
   "outputs": [],
   "source": [
    "ans_1\n"
   ]
  },
  {
   "cell_type": "code",
   "execution_count": null,
   "id": "fbf29625-09ee-46df-953a-19becfdc0615",
   "metadata": {},
   "outputs": [],
   "source": [
    "y_test.iloc[1]"
   ]
  },
  {
   "cell_type": "code",
   "execution_count": null,
   "id": "7f793671-75f9-4df7-8991-ae132ddec61e",
   "metadata": {},
   "outputs": [],
   "source": [
    "index = 0\n",
    "for n in ans_1:\n",
    "    if(y_test.iloc[index] != n):\n",
    "        print('found one that is not working ')\n",
    "        print(index)\n",
    "        print('actual is: ', n)\n",
    "        print('the predicted is: ', y_test.iloc[index])\n",
    "        print('the features for this one was :')\n",
    "        print(X_test.iloc[index])\n",
    "        break\n",
    "    index+=1"
   ]
  },
  {
   "cell_type": "code",
   "execution_count": null,
   "id": "411b4e58-7bdb-4d2f-b762-5d0be65b9d77",
   "metadata": {},
   "outputs": [],
   "source": []
  },
  {
   "cell_type": "code",
   "execution_count": null,
   "id": "8291d267-1930-4633-baeb-e7b2b440630b",
   "metadata": {},
   "outputs": [],
   "source": []
  }
 ],
 "metadata": {
  "kernelspec": {
   "display_name": "Python 3 (ipykernel)",
   "language": "python",
   "name": "python3"
  },
  "language_info": {
   "codemirror_mode": {
    "name": "ipython",
    "version": 3
   },
   "file_extension": ".py",
   "mimetype": "text/x-python",
   "name": "python",
   "nbconvert_exporter": "python",
   "pygments_lexer": "ipython3",
   "version": "3.9.15"
  }
 },
 "nbformat": 4,
 "nbformat_minor": 5
}
